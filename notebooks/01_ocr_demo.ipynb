{
 "cells": [
  {
   "metadata": {},
   "cell_type": "markdown",
   "source": "## 1.Torch and CUDA check",
   "id": "248638a2902ceb46"
  },
  {
   "metadata": {
    "ExecuteTime": {
     "end_time": "2025-09-25T15:12:14.631442Z",
     "start_time": "2025-09-25T15:12:14.626786Z"
    }
   },
   "cell_type": "code",
   "source": [
    "import torch\n",
    "print(torch.__version__)\n",
    "print(torch.cuda.is_available())"
   ],
   "id": "68813137120078eb",
   "outputs": [
    {
     "name": "stdout",
     "output_type": "stream",
     "text": [
      "2.7.1+cu118\n",
      "True\n"
     ]
    }
   ],
   "execution_count": 32
  },
  {
   "metadata": {},
   "cell_type": "markdown",
   "source": "## 2.EasyOCR check",
   "id": "445c48ea6a96d15c"
  },
  {
   "metadata": {
    "ExecuteTime": {
     "end_time": "2025-09-25T15:44:40.420995Z",
     "start_time": "2025-09-25T15:44:37.941958Z"
    }
   },
   "cell_type": "code",
   "source": [
    "import easyocr\n",
    "print(easyocr.__version__)"
   ],
   "id": "b14fc6eec3172ae0",
   "outputs": [
    {
     "name": "stdout",
     "output_type": "stream",
     "text": [
      "1.7.2\n"
     ]
    }
   ],
   "execution_count": 1
  }
 ],
 "metadata": {
  "kernelspec": {
   "display_name": "Python 3",
   "language": "python",
   "name": "python3"
  },
  "language_info": {
   "codemirror_mode": {
    "name": "ipython",
    "version": 2
   },
   "file_extension": ".py",
   "mimetype": "text/x-python",
   "name": "python",
   "nbconvert_exporter": "python",
   "pygments_lexer": "ipython2",
   "version": "2.7.6"
  }
 },
 "nbformat": 4,
 "nbformat_minor": 5
}
